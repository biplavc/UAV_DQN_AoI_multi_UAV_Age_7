{
 "metadata": {
  "language_info": {
   "codemirror_mode": {
    "name": "ipython",
    "version": 3
   },
   "file_extension": ".py",
   "mimetype": "text/x-python",
   "name": "python",
   "nbconvert_exporter": "python",
   "pygments_lexer": "ipython3",
   "version": "3.7.4-final"
  },
  "orig_nbformat": 2,
  "kernelspec": {
   "name": "python3",
   "display_name": "Python 3",
   "language": "python"
  }
 },
 "nbformat": 4,
 "nbformat_minor": 2,
 "cells": [
  {
   "cell_type": "code",
   "execution_count": 3,
   "metadata": {},
   "outputs": [],
   "source": [
    "import numpy as np\n",
    "import pandas as pd\n",
    "import matplotlib.pyplot as plt\n",
    "from networkx import *\n",
    "import random\n",
    "from scipy.spatial.distance import pdist, squareform\n",
    "from networkx.algorithms.approximation import min_weighted_dominating_set\n",
    "from itertools import product  \n",
    "# from age_calculation import *\n",
    "\n",
    "# from networkx.algorithms.approximation import dominating_set\n",
    "from parameters import *\n",
    "# from create_graph_1 import *\n",
    "from itertools import combinations\n",
    "import pickle\n",
    "\n",
    "%matplotlib inline  \n"
   ]
  },
  {
   "cell_type": "code",
   "execution_count": 4,
   "metadata": {},
   "outputs": [],
   "source": [
    "def running_mean(x): #, N = 5):\n",
    "    N = 100\n",
    "    cumsum = np.cumsum(np.insert(x, 0, 0)) \n",
    "    return (cumsum[N:] - cumsum[:-N]) / float(N)"
   ]
  },
  {
   "cell_type": "code",
   "execution_count": 8,
   "metadata": {},
   "outputs": [
    {
     "output_type": "stream",
     "name": "stdout",
     "text": [
      "dict_keys([10, 11, 12, 13, 14, 15, 16, 17])\n10002\ndict_keys([10, 11, 12, 13, 14, 15, 16, 17])\n199998\n"
     ]
    }
   ],
   "source": [
    "# exp 9\n",
    "path = \"/home/biplav/AoI/UAV_results/multi_UAV_Age_7/new/exp6/\"\n",
    "path_MDS = path + \"MDS/\"\n",
    "path_RP = path + \"RP/\"\n",
    "\n",
    "\n",
    "DQN_age_dist_BS_8U = pickle.load(open(path_RP + \"8U_DQN_age_dist_BS.pickle\", \"rb\"))\n",
    "print((DQN_age_dist_BS_8U.keys()))\n",
    "print(len(DQN_age_dist_BS_8U[10]))\n",
    "\n",
    "mad_age_dist_BS_8U = pickle.load(open(path_RP + \"8U_mad_age_dist_BS.pickle\", \"rb\"))\n",
    "print((mad_age_dist_BS_8U.keys()))\n",
    "print(len(mad_age_dist_BS_8U[10]))\n"
   ]
  },
  {
   "cell_type": "code",
   "execution_count": 11,
   "metadata": {},
   "outputs": [
    {
     "output_type": "stream",
     "name": "stdout",
     "text": [
      "[7, 11, 11, 11, 11, 11, 4, 11, 4, 11]\n[11, 11, 11, 10, 11, 7, 11, 11, 11, 10]\n"
     ]
    }
   ],
   "source": [
    "print(DQN_age_dist_BS_8U[10][-10:])\n",
    "print(mad_age_dist_BS_8U[10][-10:])"
   ]
  }
 ]
}